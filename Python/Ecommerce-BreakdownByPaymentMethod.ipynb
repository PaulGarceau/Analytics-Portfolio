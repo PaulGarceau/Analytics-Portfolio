{
 "cells": [
  {
   "cell_type": "markdown",
   "id": "4e2350ce-ec4b-4aa7-8d99-12dbd5e556d9",
   "metadata": {},
   "source": [
    "#Load pandas library"
   ]
  },
  {
   "cell_type": "code",
   "execution_count": 1,
   "id": "e3aa11b3-8807-43a4-9618-faba4f5b038b",
   "metadata": {},
   "outputs": [],
   "source": [
    "import pandas as pd"
   ]
  },
  {
   "cell_type": "markdown",
   "id": "0c142f1c-6f94-4cac-882b-ef9a5461dcc2",
   "metadata": {},
   "source": [
    "#Load numpy library"
   ]
  },
  {
   "cell_type": "code",
   "execution_count": 2,
   "id": "6bd3059d-f11f-4ef8-912d-69065c8e8591",
   "metadata": {},
   "outputs": [],
   "source": [
    "import numpy as np"
   ]
  },
  {
   "cell_type": "markdown",
   "id": "ad712392-a1aa-4488-8263-9a02b42c5e64",
   "metadata": {},
   "source": [
    "#Load matplot library"
   ]
  },
  {
   "cell_type": "code",
   "execution_count": 3,
   "id": "a6793347-5662-4f0f-8dad-85b276698c5e",
   "metadata": {},
   "outputs": [],
   "source": [
    "import matplotlib as mpl"
   ]
  },
  {
   "cell_type": "markdown",
   "id": "42ac1c17-c105-472f-8fa1-92f252e587df",
   "metadata": {},
   "source": [
    "#Load/alias pyplot submodule"
   ]
  },
  {
   "cell_type": "code",
   "execution_count": 4,
   "id": "9ba0834e-bd07-448f-8c02-19a566c71b8f",
   "metadata": {},
   "outputs": [],
   "source": [
    "import matplotlib.pyplot as plt"
   ]
  },
  {
   "cell_type": "markdown",
   "id": "c9f8f3b1-1d4f-4e46-b649-23b956f1d24a",
   "metadata": {},
   "source": [
    "#import Customer Details table from csv"
   ]
  },
  {
   "cell_type": "code",
   "execution_count": 5,
   "id": "07bf99bc-f376-4581-9cb6-3cd6a55f13fa",
   "metadata": {},
   "outputs": [],
   "source": [
    "df = pd.read_csv('C:/Datasets/Kaggle/E-CommerceSalesData2024/customer_details.csv')"
   ]
  },
  {
   "cell_type": "markdown",
   "id": "f28fa804-ad95-4f81-9b23-e8bceda8581a",
   "metadata": {},
   "source": [
    "#confirm import"
   ]
  },
  {
   "cell_type": "code",
   "execution_count": 6,
   "id": "80b904be-836c-405f-a799-1e82582d8800",
   "metadata": {},
   "outputs": [
    {
     "name": "stdout",
     "output_type": "stream",
     "text": [
      "      Customer ID  Age  Gender Item Purchased     Category  \\\n",
      "0               1   55    Male         Blouse     Clothing   \n",
      "1               2   19    Male        Sweater     Clothing   \n",
      "2               3   50    Male          Jeans     Clothing   \n",
      "3               4   21    Male        Sandals     Footwear   \n",
      "4               5   45    Male         Blouse     Clothing   \n",
      "...           ...  ...     ...            ...          ...   \n",
      "3895         3896   40  Female         Hoodie     Clothing   \n",
      "3896         3897   52  Female       Backpack  Accessories   \n",
      "3897         3898   46  Female           Belt  Accessories   \n",
      "3898         3899   44  Female          Shoes     Footwear   \n",
      "3899         3900   52  Female        Handbag  Accessories   \n",
      "\n",
      "      Purchase Amount (USD)       Location Size      Color  Season  \\\n",
      "0                        53       Kentucky    L       Gray  Winter   \n",
      "1                        64          Maine    L     Maroon  Winter   \n",
      "2                        73  Massachusetts    S     Maroon  Spring   \n",
      "3                        90   Rhode Island    M     Maroon  Spring   \n",
      "4                        49         Oregon    M  Turquoise  Spring   \n",
      "...                     ...            ...  ...        ...     ...   \n",
      "3895                     28       Virginia    L  Turquoise  Summer   \n",
      "3896                     49           Iowa    L      White  Spring   \n",
      "3897                     33     New Jersey    L      Green  Spring   \n",
      "3898                     77      Minnesota    S      Brown  Summer   \n",
      "3899                     81     California    M      Beige  Spring   \n",
      "\n",
      "      Review Rating Subscription Status   Shipping Type Discount Applied  \\\n",
      "0               3.1                 Yes         Express              Yes   \n",
      "1               3.1                 Yes         Express              Yes   \n",
      "2               3.1                 Yes   Free Shipping              Yes   \n",
      "3               3.5                 Yes    Next Day Air              Yes   \n",
      "4               2.7                 Yes   Free Shipping              Yes   \n",
      "...             ...                 ...             ...              ...   \n",
      "3895            4.2                  No  2-Day Shipping               No   \n",
      "3896            4.5                  No    Store Pickup               No   \n",
      "3897            2.9                  No        Standard               No   \n",
      "3898            3.8                  No         Express               No   \n",
      "3899            3.1                  No    Store Pickup               No   \n",
      "\n",
      "     Promo Code Used  Previous Purchases Payment Method Frequency of Purchases  \n",
      "0                Yes                  14          Venmo            Fortnightly  \n",
      "1                Yes                   2           Cash            Fortnightly  \n",
      "2                Yes                  23    Credit Card                 Weekly  \n",
      "3                Yes                  49         PayPal                 Weekly  \n",
      "4                Yes                  31         PayPal               Annually  \n",
      "...              ...                 ...            ...                    ...  \n",
      "3895              No                  32          Venmo                 Weekly  \n",
      "3896              No                  41  Bank Transfer              Bi-Weekly  \n",
      "3897              No                  24          Venmo              Quarterly  \n",
      "3898              No                  24          Venmo                 Weekly  \n",
      "3899              No                  33          Venmo              Quarterly  \n",
      "\n",
      "[3900 rows x 18 columns]\n"
     ]
    }
   ],
   "source": [
    "print(df)"
   ]
  },
  {
   "cell_type": "markdown",
   "id": "5ce5bd28-b64d-4361-895f-8d38b4291bea",
   "metadata": {},
   "source": [
    "#check column data types for possible conversion if necessary"
   ]
  },
  {
   "cell_type": "code",
   "execution_count": 7,
   "id": "eff63cd2-e174-4fcb-a210-63834671a4ef",
   "metadata": {
    "scrolled": true
   },
   "outputs": [
    {
     "name": "stdout",
     "output_type": "stream",
     "text": [
      "Customer ID                 int64\n",
      "Age                         int64\n",
      "Gender                     object\n",
      "Item Purchased             object\n",
      "Category                   object\n",
      "Purchase Amount (USD)       int64\n",
      "Location                   object\n",
      "Size                       object\n",
      "Color                      object\n",
      "Season                     object\n",
      "Review Rating             float64\n",
      "Subscription Status        object\n",
      "Shipping Type              object\n",
      "Discount Applied           object\n",
      "Promo Code Used            object\n",
      "Previous Purchases          int64\n",
      "Payment Method             object\n",
      "Frequency of Purchases     object\n",
      "dtype: object\n"
     ]
    }
   ],
   "source": [
    "# Get the data types of all columns\n",
    "column_data_types = df.dtypes\n",
    "\n",
    "# Print the Series containing column data types\n",
    "print(column_data_types)"
   ]
  },
  {
   "cell_type": "markdown",
   "id": "07f74b79-6d50-48f8-9174-df44ce00e8f6",
   "metadata": {},
   "source": [
    "#create series with counts of unique payment methods "
   ]
  },
  {
   "cell_type": "code",
   "execution_count": 8,
   "id": "2395f9ce-e4eb-4c1e-b27a-e3115e9b5170",
   "metadata": {},
   "outputs": [],
   "source": [
    "payment_counts = df['Payment Method'].value_counts()"
   ]
  },
  {
   "cell_type": "code",
   "execution_count": 9,
   "id": "4dd159cf-2b60-43c0-b88f-a270333ee0ab",
   "metadata": {},
   "outputs": [
    {
     "name": "stdout",
     "output_type": "stream",
     "text": [
      "Payment Method\n",
      "PayPal           677\n",
      "Credit Card      671\n",
      "Cash             670\n",
      "Debit Card       636\n",
      "Venmo            634\n",
      "Bank Transfer    612\n",
      "Name: count, dtype: int64\n"
     ]
    }
   ],
   "source": [
    "print(payment_counts)"
   ]
  },
  {
   "cell_type": "code",
   "execution_count": 10,
   "id": "1f798cf0-421b-4ab8-8758-2be1ab3565b4",
   "metadata": {},
   "outputs": [
    {
     "name": "stdout",
     "output_type": "stream",
     "text": [
      "Index(['PayPal', 'Credit Card', 'Cash', 'Debit Card', 'Venmo',\n",
      "       'Bank Transfer'],\n",
      "      dtype='object', name='Payment Method')\n"
     ]
    }
   ],
   "source": [
    "print(payment_counts.index)"
   ]
  },
  {
   "cell_type": "markdown",
   "id": "939e6868-fcf6-40bc-bd1d-888b487aacee",
   "metadata": {},
   "source": [
    "#convert payment counts index to list and check ouput"
   ]
  },
  {
   "cell_type": "code",
   "execution_count": 11,
   "id": "3de17166-4f35-43dd-8278-932a0bda693a",
   "metadata": {},
   "outputs": [
    {
     "name": "stdout",
     "output_type": "stream",
     "text": [
      "['PayPal', 'Credit Card', 'Cash', 'Debit Card', 'Venmo', 'Bank Transfer']\n"
     ]
    }
   ],
   "source": [
    "paymenttypes_index_as_list = payment_counts.index.tolist()\n",
    "print(paymenttypes_index_as_list)"
   ]
  },
  {
   "cell_type": "markdown",
   "id": "2e173bd1-99da-4f4d-a907-3185c08ef58a",
   "metadata": {},
   "source": [
    "#check outputs of payment method count values"
   ]
  },
  {
   "cell_type": "code",
   "execution_count": 12,
   "id": "903d09ee-0786-41f4-99bc-f14d6bbce4c2",
   "metadata": {},
   "outputs": [
    {
     "name": "stdout",
     "output_type": "stream",
     "text": [
      "[677 671 670 636 634 612]\n"
     ]
    }
   ],
   "source": [
    "print(payment_counts.values)"
   ]
  },
  {
   "cell_type": "markdown",
   "id": "dff84c75-5944-4337-a036-2484e52765c6",
   "metadata": {},
   "source": [
    "#plot payment methods as bar chart"
   ]
  },
  {
   "cell_type": "code",
   "execution_count": 13,
   "id": "c36ecc07-1364-4f16-a3cc-36e607acdd0c",
   "metadata": {
    "scrolled": true
   },
   "outputs": [
    {
     "data": {
      "image/png": "[encoded data removed]",
      "text/plain": [
       "<Figure size 640x480 with 1 Axes>"
      ]
     },
     "metadata": {},
     "output_type": "display_data"
    }
   ],
   "source": [
    "# Create the bar chart\n",
    "plt.bar(paymenttypes_index_as_list, payment_counts.values, color='green')\n",
    "\n",
    "# Add labels and title\n",
    "plt.xlabel('Payment Types')\n",
    "plt.ylabel('Number of Purchases')\n",
    "plt.title('Payment Methods')\n",
    "\n",
    "# Display the chart\n",
    "plt.show()"
   ]
  },
  {
   "cell_type": "markdown",
   "id": "72b64e89-a6f2-446e-bd24-65e908061558",
   "metadata": {},
   "source": [
    "#plot payment types as pie chart"
   ]
  },
  {
   "cell_type": "code",
   "execution_count": 14,
   "id": "f75f60c7-b558-4043-8c25-273ab351ec5f",
   "metadata": {},
   "outputs": [
    {
     "data": {
      "image/png": "[encoded data removed]",
      "text/plain": [
       "<Figure size 640x480 with 1 Axes>"
      ]
     },
     "metadata": {},
     "output_type": "display_data"
    }
   ],
   "source": [
    "plt.pie(x = payment_counts.values, labels = paymenttypes_index_as_list, autopct='%1.1f%%')\n",
    "plt.title('Payment Methods')\n",
    "plt.show()"
   ]
  },
  {
   "cell_type": "code",
   "execution_count": null,
   "id": "98d931ed-2844-44fb-83e4-acd7808db579",
   "metadata": {},
   "outputs": [],
   "source": []
  }
 ],
 "metadata": {
  "kernelspec": {
   "display_name": "Python [conda env:base] *",
   "language": "python",
   "name": "conda-base-py"
  },
  "language_info": {
   "codemirror_mode": {
    "name": "ipython",
    "version": 3
   },
   "file_extension": ".py",
   "mimetype": "text/x-python",
   "name": "python",
   "nbconvert_exporter": "python",
   "pygments_lexer": "ipython3",
   "version": "3.12.7"
  }
 },
 "nbformat": 4,
 "nbformat_minor": 5
}
