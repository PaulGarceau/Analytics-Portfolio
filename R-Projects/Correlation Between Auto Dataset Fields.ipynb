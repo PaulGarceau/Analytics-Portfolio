{
 "cells": [
  {
   "cell_type": "code",
   "execution_count": null,
   "id": "63834c1f-d3a1-4c86-b6a3-e579a6b90b41",
   "metadata": {},
   "outputs": [],
   "source": [
    "#With the public Auto dataset as a source, discover relationships between vehicle specifications.\n",
    "#Find correlation coefficient values, t-value, degrees of freedom, p-value \n",
    "#and confidence interval using the statistical tools in R "
   ]
  },
  {
   "cell_type": "code",
   "execution_count": null,
   "id": "4d4ab71e-1334-4115-a70a-d4d637fe4ab9",
   "metadata": {},
   "outputs": [],
   "source": [
    "#load the ISLR package containing the AUTO dataset"
   ]
  },
  {
   "cell_type": "code",
   "execution_count": 1,
   "id": "cfd3b819-6eb5-4f44-bfdc-148c02d9a174",
   "metadata": {},
   "outputs": [],
   "source": [
    "library(ISLR)"
   ]
  },
  {
   "cell_type": "code",
   "execution_count": null,
   "id": "1994c93b-88aa-4fac-8d46-30c45c104dca",
   "metadata": {},
   "outputs": [],
   "source": [
    "#check the dataframe for non-numercial fields that will need to be converted or dropped\n"
   ]
  },
  {
   "cell_type": "code",
   "execution_count": 2,
   "id": "fb6de1a4-010e-40d9-b222-72fdb23539a6",
   "metadata": {},
   "outputs": [
    {
     "name": "stdout",
     "output_type": "stream",
     "text": [
      "'data.frame':\t392 obs. of  9 variables:\n",
      " $ mpg         : num  18 15 18 16 17 15 14 14 14 15 ...\n",
      " $ cylinders   : num  8 8 8 8 8 8 8 8 8 8 ...\n",
      " $ displacement: num  307 350 318 304 302 429 454 440 455 390 ...\n",
      " $ horsepower  : num  130 165 150 150 140 198 220 215 225 190 ...\n",
      " $ weight      : num  3504 3693 3436 3433 3449 ...\n",
      " $ acceleration: num  12 11.5 11 12 10.5 10 9 8.5 10 8.5 ...\n",
      " $ year        : num  70 70 70 70 70 70 70 70 70 70 ...\n",
      " $ origin      : num  1 1 1 1 1 1 1 1 1 1 ...\n",
      " $ name        : Factor w/ 304 levels \"amc ambassador brougham\",..: 49 36 231 14 161 141 54 223 241 2 ...\n"
     ]
    }
   ],
   "source": [
    "str(Auto)"
   ]
  },
  {
   "cell_type": "code",
   "execution_count": null,
   "id": "69bb253c-0924-4da3-8138-436b5810017a",
   "metadata": {},
   "outputs": [],
   "source": [
    "#create dataframe AutoNumerical with numerical fields only (drop name field)\n"
   ]
  },
  {
   "cell_type": "code",
   "execution_count": 3,
   "id": "3c45b377-6b6c-406f-acfa-8508f27b8b5c",
   "metadata": {},
   "outputs": [],
   "source": [
    "AutoNumerical <- subset(Auto, select = -c(name))"
   ]
  },
  {
   "cell_type": "code",
   "execution_count": null,
   "id": "29bc7c81-6184-4105-be09-4ddcb29effca",
   "metadata": {},
   "outputs": [],
   "source": [
    "#check the dataframe for non-numercial fields that will need to be converted or dropped\n"
   ]
  },
  {
   "cell_type": "code",
   "execution_count": 4,
   "id": "99e4bde3-fe65-42d6-9dce-9aa92b53c5ae",
   "metadata": {},
   "outputs": [
    {
     "name": "stdout",
     "output_type": "stream",
     "text": [
      "'data.frame':\t392 obs. of  8 variables:\n",
      " $ mpg         : num  18 15 18 16 17 15 14 14 14 15 ...\n",
      " $ cylinders   : num  8 8 8 8 8 8 8 8 8 8 ...\n",
      " $ displacement: num  307 350 318 304 302 429 454 440 455 390 ...\n",
      " $ horsepower  : num  130 165 150 150 140 198 220 215 225 190 ...\n",
      " $ weight      : num  3504 3693 3436 3433 3449 ...\n",
      " $ acceleration: num  12 11.5 11 12 10.5 10 9 8.5 10 8.5 ...\n",
      " $ year        : num  70 70 70 70 70 70 70 70 70 70 ...\n",
      " $ origin      : num  1 1 1 1 1 1 1 1 1 1 ...\n"
     ]
    }
   ],
   "source": [
    "str(AutoNumerical)"
   ]
  },
  {
   "cell_type": "code",
   "execution_count": null,
   "id": "3fcaa4de-6da7-4384-99f1-54bedcc1ff99",
   "metadata": {},
   "outputs": [],
   "source": [
    "#calculate correlation coefficients between numerical fields"
   ]
  },
  {
   "cell_type": "code",
   "execution_count": 5,
   "id": "151cdf9f-6501-40e9-a039-8ba646d4ffb0",
   "metadata": {},
   "outputs": [
    {
     "data": {
      "text/html": [
       "<table class=\"dataframe\">\n",
       "<caption>A matrix: 8 × 8 of type dbl</caption>\n",
       "<thead>\n",
       "\t<tr><th></th><th scope=col>mpg</th><th scope=col>cylinders</th><th scope=col>displacement</th><th scope=col>horsepower</th><th scope=col>weight</th><th scope=col>acceleration</th><th scope=col>year</th><th scope=col>origin</th></tr>\n",
       "</thead>\n",
       "<tbody>\n",
       "\t<tr><th scope=row>mpg</th><td> 1.0000000</td><td>-0.7776175</td><td>-0.8051269</td><td>-0.7784268</td><td>-0.8322442</td><td> 0.4233285</td><td> 0.5805410</td><td> 0.5652088</td></tr>\n",
       "\t<tr><th scope=row>cylinders</th><td>-0.7776175</td><td> 1.0000000</td><td> 0.9508233</td><td> 0.8429834</td><td> 0.8975273</td><td>-0.5046834</td><td>-0.3456474</td><td>-0.5689316</td></tr>\n",
       "\t<tr><th scope=row>displacement</th><td>-0.8051269</td><td> 0.9508233</td><td> 1.0000000</td><td> 0.8972570</td><td> 0.9329944</td><td>-0.5438005</td><td>-0.3698552</td><td>-0.6145351</td></tr>\n",
       "\t<tr><th scope=row>horsepower</th><td>-0.7784268</td><td> 0.8429834</td><td> 0.8972570</td><td> 1.0000000</td><td> 0.8645377</td><td>-0.6891955</td><td>-0.4163615</td><td>-0.4551715</td></tr>\n",
       "\t<tr><th scope=row>weight</th><td>-0.8322442</td><td> 0.8975273</td><td> 0.9329944</td><td> 0.8645377</td><td> 1.0000000</td><td>-0.4168392</td><td>-0.3091199</td><td>-0.5850054</td></tr>\n",
       "\t<tr><th scope=row>acceleration</th><td> 0.4233285</td><td>-0.5046834</td><td>-0.5438005</td><td>-0.6891955</td><td>-0.4168392</td><td> 1.0000000</td><td> 0.2903161</td><td> 0.2127458</td></tr>\n",
       "\t<tr><th scope=row>year</th><td> 0.5805410</td><td>-0.3456474</td><td>-0.3698552</td><td>-0.4163615</td><td>-0.3091199</td><td> 0.2903161</td><td> 1.0000000</td><td> 0.1815277</td></tr>\n",
       "\t<tr><th scope=row>origin</th><td> 0.5652088</td><td>-0.5689316</td><td>-0.6145351</td><td>-0.4551715</td><td>-0.5850054</td><td> 0.2127458</td><td> 0.1815277</td><td> 1.0000000</td></tr>\n",
       "</tbody>\n",
       "</table>\n"
      ],
      "text/latex": [
       "A matrix: 8 × 8 of type dbl\n",
       "\\begin{tabular}{r|llllllll}\n",
       "  & mpg & cylinders & displacement & horsepower & weight & acceleration & year & origin\\\\\n",
       "\\hline\n",
       "\tmpg &  1.0000000 & -0.7776175 & -0.8051269 & -0.7784268 & -0.8322442 &  0.4233285 &  0.5805410 &  0.5652088\\\\\n",
       "\tcylinders & -0.7776175 &  1.0000000 &  0.9508233 &  0.8429834 &  0.8975273 & -0.5046834 & -0.3456474 & -0.5689316\\\\\n",
       "\tdisplacement & -0.8051269 &  0.9508233 &  1.0000000 &  0.8972570 &  0.9329944 & -0.5438005 & -0.3698552 & -0.6145351\\\\\n",
       "\thorsepower & -0.7784268 &  0.8429834 &  0.8972570 &  1.0000000 &  0.8645377 & -0.6891955 & -0.4163615 & -0.4551715\\\\\n",
       "\tweight & -0.8322442 &  0.8975273 &  0.9329944 &  0.8645377 &  1.0000000 & -0.4168392 & -0.3091199 & -0.5850054\\\\\n",
       "\tacceleration &  0.4233285 & -0.5046834 & -0.5438005 & -0.6891955 & -0.4168392 &  1.0000000 &  0.2903161 &  0.2127458\\\\\n",
       "\tyear &  0.5805410 & -0.3456474 & -0.3698552 & -0.4163615 & -0.3091199 &  0.2903161 &  1.0000000 &  0.1815277\\\\\n",
       "\torigin &  0.5652088 & -0.5689316 & -0.6145351 & -0.4551715 & -0.5850054 &  0.2127458 &  0.1815277 &  1.0000000\\\\\n",
       "\\end{tabular}\n"
      ],
      "text/markdown": [
       "\n",
       "A matrix: 8 × 8 of type dbl\n",
       "\n",
       "| <!--/--> | mpg | cylinders | displacement | horsepower | weight | acceleration | year | origin |\n",
       "|---|---|---|---|---|---|---|---|---|\n",
       "| mpg |  1.0000000 | -0.7776175 | -0.8051269 | -0.7784268 | -0.8322442 |  0.4233285 |  0.5805410 |  0.5652088 |\n",
       "| cylinders | -0.7776175 |  1.0000000 |  0.9508233 |  0.8429834 |  0.8975273 | -0.5046834 | -0.3456474 | -0.5689316 |\n",
       "| displacement | -0.8051269 |  0.9508233 |  1.0000000 |  0.8972570 |  0.9329944 | -0.5438005 | -0.3698552 | -0.6145351 |\n",
       "| horsepower | -0.7784268 |  0.8429834 |  0.8972570 |  1.0000000 |  0.8645377 | -0.6891955 | -0.4163615 | -0.4551715 |\n",
       "| weight | -0.8322442 |  0.8975273 |  0.9329944 |  0.8645377 |  1.0000000 | -0.4168392 | -0.3091199 | -0.5850054 |\n",
       "| acceleration |  0.4233285 | -0.5046834 | -0.5438005 | -0.6891955 | -0.4168392 |  1.0000000 |  0.2903161 |  0.2127458 |\n",
       "| year |  0.5805410 | -0.3456474 | -0.3698552 | -0.4163615 | -0.3091199 |  0.2903161 |  1.0000000 |  0.1815277 |\n",
       "| origin |  0.5652088 | -0.5689316 | -0.6145351 | -0.4551715 | -0.5850054 |  0.2127458 |  0.1815277 |  1.0000000 |\n",
       "\n"
      ],
      "text/plain": [
       "             mpg        cylinders  displacement horsepower weight    \n",
       "mpg           1.0000000 -0.7776175 -0.8051269   -0.7784268 -0.8322442\n",
       "cylinders    -0.7776175  1.0000000  0.9508233    0.8429834  0.8975273\n",
       "displacement -0.8051269  0.9508233  1.0000000    0.8972570  0.9329944\n",
       "horsepower   -0.7784268  0.8429834  0.8972570    1.0000000  0.8645377\n",
       "weight       -0.8322442  0.8975273  0.9329944    0.8645377  1.0000000\n",
       "acceleration  0.4233285 -0.5046834 -0.5438005   -0.6891955 -0.4168392\n",
       "year          0.5805410 -0.3456474 -0.3698552   -0.4163615 -0.3091199\n",
       "origin        0.5652088 -0.5689316 -0.6145351   -0.4551715 -0.5850054\n",
       "             acceleration year       origin    \n",
       "mpg           0.4233285    0.5805410  0.5652088\n",
       "cylinders    -0.5046834   -0.3456474 -0.5689316\n",
       "displacement -0.5438005   -0.3698552 -0.6145351\n",
       "horsepower   -0.6891955   -0.4163615 -0.4551715\n",
       "weight       -0.4168392   -0.3091199 -0.5850054\n",
       "acceleration  1.0000000    0.2903161  0.2127458\n",
       "year          0.2903161    1.0000000  0.1815277\n",
       "origin        0.2127458    0.1815277  1.0000000"
      ]
     },
     "metadata": {},
     "output_type": "display_data"
    }
   ],
   "source": [
    "cor(AutoNumerical)"
   ]
  },
  {
   "cell_type": "code",
   "execution_count": null,
   "id": "e9749788-f153-45eb-bdaf-9a45b21efdb2",
   "metadata": {},
   "outputs": [],
   "source": [
    "#Load corrplot package to create heat map visual of correlation coefficients"
   ]
  },
  {
   "cell_type": "code",
   "execution_count": 6,
   "id": "f6af00fe-78b3-4645-98d0-c817f5e01668",
   "metadata": {},
   "outputs": [
    {
     "name": "stderr",
     "output_type": "stream",
     "text": [
      "corrplot 0.95 loaded\n",
      "\n"
     ]
    }
   ],
   "source": [
    "library(corrplot)"
   ]
  },
  {
   "cell_type": "code",
   "execution_count": null,
   "id": "94b9e82d-48a3-4328-a693-710e8bb2f582",
   "metadata": {},
   "outputs": [],
   "source": [
    "#graph correlation coefficients between numerical fields as a heat map visual"
   ]
  },
  {
   "cell_type": "code",
   "execution_count": 7,
   "id": "4d2b79c6-8c3b-47f2-8236-0d6fca0458a5",
   "metadata": {},
   "outputs": [
    {
     "data": {
      "image/png": "[encoded data removed]",
      "text/plain": [
       "Plot with title \"\""
      ]
     },
     "metadata": {
      "image/png": {
       "height": 420,
       "width": 420
      }
     },
     "output_type": "display_data"
    }
   ],
   "source": [
    "corrplot(cor(AutoNumerical))"
   ]
  },
  {
   "cell_type": "code",
   "execution_count": null,
   "id": "225810c3-95c7-4811-aeca-dd48f22eb98b",
   "metadata": {},
   "outputs": [],
   "source": [
    "# note strong negative correlation between:\n",
    "#mpg - cylinders\n",
    "#mpg - displacement\n",
    "#mpg - horsepower\n",
    "#mpg - weight\n",
    "#horsepower - acceleration (moderate)"
   ]
  },
  {
   "cell_type": "code",
   "execution_count": null,
   "id": "b058003f-b657-416f-a701-6c0f16e80eb2",
   "metadata": {},
   "outputs": [],
   "source": [
    "#note strong positive correlation between:\n",
    "#cylinders - displacement\n",
    "#cylinders - horsepower\n",
    "#cylinders - weight\n",
    "#displacement - horsepower\n",
    "#displacement - weight\n",
    "#horsepower - weight"
   ]
  },
  {
   "cell_type": "code",
   "execution_count": null,
   "id": "f3babab3-ed86-453f-b6fa-ed5f1269cb22",
   "metadata": {},
   "outputs": [],
   "source": [
    "#Digging deeper into the correlation between horsepower and acceleration\n",
    "#Calculating t-value, degrees of freedom, p-value and confidence interval\n"
   ]
  },
  {
   "cell_type": "code",
   "execution_count": 8,
   "id": "71803052-935c-4db7-9423-23eec32f25fa",
   "metadata": {},
   "outputs": [
    {
     "data": {
      "text/plain": [
       "\n",
       "\tPearson's product-moment correlation\n",
       "\n",
       "data:  AutoNumerical$horsepower and AutoNumerical$acceleration\n",
       "t = -18.784, df = 390, p-value < 2.2e-16\n",
       "alternative hypothesis: true correlation is not equal to 0\n",
       "95 percent confidence interval:\n",
       " -0.7378738 -0.6333843\n",
       "sample estimates:\n",
       "       cor \n",
       "-0.6891955 \n"
      ]
     },
     "metadata": {},
     "output_type": "display_data"
    }
   ],
   "source": [
    "cor.test(AutoNumerical$horsepower, AutoNumerical$acceleration)"
   ]
  },
  {
   "cell_type": "code",
   "execution_count": null,
   "id": "f2f846db-8ccd-4c6e-ae6e-3feeee133149",
   "metadata": {},
   "outputs": [],
   "source": []
  }
 ],
 "metadata": {
  "kernelspec": {
   "display_name": "R",
   "language": "R",
   "name": "ir"
  },
  "language_info": {
   "codemirror_mode": "r",
   "file_extension": ".r",
   "mimetype": "text/x-r-source",
   "name": "R",
   "pygments_lexer": "r",
   "version": "4.5.0"
  }
 },
 "nbformat": 4,
 "nbformat_minor": 5
}
