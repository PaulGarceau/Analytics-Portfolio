{
 "cells": [
  {
   "cell_type": "code",
   "execution_count": null,
   "id": "9eb48249-e162-4a68-8276-899471957a49",
   "metadata": {},
   "outputs": [],
   "source": [
    "#Compare the hours spent studying to whether a students passes an exam\n",
    "#Plot data as points and graph Logistic regression S Curve\n",
    "#Use Logistic regression to create a predictive model\n",
    "#Predict outcome for various study times"
   ]
  },
  {
   "cell_type": "code",
   "execution_count": null,
   "id": "8a077626-ad46-4d2c-a940-3beb149b7f95",
   "metadata": {},
   "outputs": [],
   "source": [
    "# load necessary graphing package"
   ]
  },
  {
   "cell_type": "code",
   "execution_count": 1,
   "id": "3e97e227-ca59-4fbb-b040-0f52cd59023f",
   "metadata": {},
   "outputs": [],
   "source": [
    "library(ggplot2)"
   ]
  },
  {
   "cell_type": "code",
   "execution_count": null,
   "id": "10650022-48e1-406d-b4d6-d42501356953",
   "metadata": {},
   "outputs": [],
   "source": [
    "#Enter Hours studied and Pass/Fail as vectors"
   ]
  },
  {
   "cell_type": "code",
   "execution_count": 2,
   "id": "c1453137-902f-4c4c-a624-8ec454cbcc49",
   "metadata": {},
   "outputs": [],
   "source": [
    "Hours <- c(0.50, 0.75, 1.00, 1.25, 1.50, 1.75, 1.75, 2.00, 2.25,\n",
    "           2.50, 2.75, 3.00, 3.25, 3.50, 4.00, 4.25, 4.50, 4.75,\n",
    "           5.00, 5.50)"
   ]
  },
  {
   "cell_type": "code",
   "execution_count": 3,
   "id": "f38c1bfe-ff45-44e6-ae80-d244e3633c07",
   "metadata": {},
   "outputs": [],
   "source": [
    "Pass <- c(0, 0, 0, 0, 0, 0, 1, 0, 1, 0, 1, 0, 1, 0, 1, 1, 1, 1, 1, 1)"
   ]
  },
  {
   "cell_type": "code",
   "execution_count": null,
   "id": "3ae0fa70-7b3d-453a-9652-721c9527122e",
   "metadata": {},
   "outputs": [],
   "source": [
    "#Create dataframe from vectors"
   ]
  },
  {
   "cell_type": "code",
   "execution_count": 4,
   "id": "401944a3-430e-4b62-a887-2558e0357884",
   "metadata": {},
   "outputs": [],
   "source": [
    "hoursstudied = data.frame(Hours, Pass)"
   ]
  },
  {
   "cell_type": "code",
   "execution_count": null,
   "id": "da4a57d0-b061-4b8c-b440-537ec2be8b20",
   "metadata": {},
   "outputs": [],
   "source": [
    "#Plot the data with Logistic regression"
   ]
  },
  {
   "cell_type": "code",
   "execution_count": 6,
   "id": "41bdb937-1c52-453d-8a74-90bc129588d4",
   "metadata": {},
   "outputs": [
    {
     "data": {
      "image/png": "[encoded data removed]",
      "text/plain": [
       "plot without title"
      ]
     },
     "metadata": {
      "image/png": {
       "height": 420,
       "width": 420
      }
     },
     "output_type": "display_data"
    }
   ],
   "source": [
    "ggplot(hoursstudied, aes(Hours, Pass)) + geom_point(aes()) + \n",
    "  geom_smooth(formula = y ~ x, method = 'glm', se = FALSE, method.args = list(family=binomial)) + \n",
    "  labs(x = \"Hours Studied\", y = \"Probability of Passing\",\n",
    "       title = \"Probability of Passing Based on Hours Studied\")"
   ]
  },
  {
   "cell_type": "code",
   "execution_count": null,
   "id": "f60414d5-21a7-4a5e-b45d-8d0e8df955f1",
   "metadata": {},
   "outputs": [],
   "source": [
    "#Use Logistic regression to create a predictive model"
   ]
  },
  {
   "cell_type": "code",
   "execution_count": 7,
   "id": "0700b420-7ca6-4cc7-a20e-02a738a29f52",
   "metadata": {},
   "outputs": [],
   "source": [
    "logmodel = glm(Pass ~ Hours, family = binomial(link =\"logit\"), \n",
    "                                             data = hoursstudied)"
   ]
  },
  {
   "cell_type": "code",
   "execution_count": null,
   "id": "3a0cd4fa-e57e-4cfb-9765-b76683b9dc41",
   "metadata": {},
   "outputs": [],
   "source": [
    "#Find the intercept and coefficient "
   ]
  },
  {
   "cell_type": "code",
   "execution_count": 8,
   "id": "20ad73a3-2b35-4fca-86eb-f0841dfad2c2",
   "metadata": {},
   "outputs": [
    {
     "data": {
      "text/html": [
       "<style>\n",
       ".dl-inline {width: auto; margin:0; padding: 0}\n",
       ".dl-inline>dt, .dl-inline>dd {float: none; width: auto; display: inline-block}\n",
       ".dl-inline>dt::after {content: \":\\0020\"; padding-right: .5ex}\n",
       ".dl-inline>dt:not(:first-of-type) {padding-left: .5ex}\n",
       "</style><dl class=dl-inline><dt>(Intercept)</dt><dd>-4.07771343090844</dd><dt>Hours</dt><dd>1.50464542829804</dd></dl>\n"
      ],
      "text/latex": [
       "\\begin{description*}\n",
       "\\item[(Intercept)] -4.07771343090844\n",
       "\\item[Hours] 1.50464542829804\n",
       "\\end{description*}\n"
      ],
      "text/markdown": [
       "(Intercept)\n",
       ":   -4.07771343090844Hours\n",
       ":   1.50464542829804\n",
       "\n"
      ],
      "text/plain": [
       "(Intercept)       Hours \n",
       "  -4.077713    1.504645 "
      ]
     },
     "metadata": {},
     "output_type": "display_data"
    }
   ],
   "source": [
    "logmodel$coefficients"
   ]
  },
  {
   "cell_type": "code",
   "execution_count": null,
   "id": "99b17935-a01f-41bd-aca6-93d2466bc154",
   "metadata": {},
   "outputs": [],
   "source": [
    "#Model Stats"
   ]
  },
  {
   "cell_type": "code",
   "execution_count": 9,
   "id": "25e5c6bd-ca0f-4ad8-bfe5-36d0f3ca39e9",
   "metadata": {},
   "outputs": [
    {
     "data": {
      "text/plain": [
       "\n",
       "Call:\n",
       "glm(formula = Pass ~ Hours, family = binomial(link = \"logit\"), \n",
       "    data = hoursstudied)\n",
       "\n",
       "Coefficients:\n",
       "            Estimate Std. Error z value Pr(>|z|)  \n",
       "(Intercept)  -4.0777     1.7610  -2.316   0.0206 *\n",
       "Hours         1.5046     0.6287   2.393   0.0167 *\n",
       "---\n",
       "Signif. codes:  0 '***' 0.001 '**' 0.01 '*' 0.05 '.' 0.1 ' ' 1\n",
       "\n",
       "(Dispersion parameter for binomial family taken to be 1)\n",
       "\n",
       "    Null deviance: 27.726  on 19  degrees of freedom\n",
       "Residual deviance: 16.060  on 18  degrees of freedom\n",
       "AIC: 20.06\n",
       "\n",
       "Number of Fisher Scoring iterations: 5\n"
      ]
     },
     "metadata": {},
     "output_type": "display_data"
    }
   ],
   "source": [
    "summary(logmodel)"
   ]
  },
  {
   "cell_type": "code",
   "execution_count": null,
   "id": "8dea8b01-01b1-40dd-9805-9c06e685f388",
   "metadata": {},
   "outputs": [],
   "source": [
    "#Create model to predict outcome using hour coefficiecnt and intercept"
   ]
  },
  {
   "cell_type": "code",
   "execution_count": null,
   "id": "27a1c2eb-7620-491d-afe3-792e899f5d76",
   "metadata": {},
   "outputs": [],
   "source": [
    "#Predict the chance of passing (as a percent) for a student who studied for 2 hours "
   ]
  },
  {
   "cell_type": "code",
   "execution_count": 10,
   "id": "ff73c3e4-16d9-4b2d-a4ac-8b6cf6f2db88",
   "metadata": {},
   "outputs": [
    {
     "data": {
      "text/html": [
       "0.255703101629889"
      ],
      "text/latex": [
       "0.255703101629889"
      ],
      "text/markdown": [
       "0.255703101629889"
      ],
      "text/plain": [
       "[1] 0.2557031"
      ]
     },
     "metadata": {},
     "output_type": "display_data"
    }
   ],
   "source": [
    "studentstudied = 2\n",
    "probofpassing = 1/(1+exp(-(-4.077713+1.504645*studentstudied)))\n",
    "probofpassing"
   ]
  },
  {
   "cell_type": "code",
   "execution_count": null,
   "id": "b2f61054-067a-45ea-a96b-15608a7b0a72",
   "metadata": {},
   "outputs": [],
   "source": [
    "#Predict chance of passing (as a percent) for a student who studied for 12 minutes "
   ]
  },
  {
   "cell_type": "code",
   "execution_count": 11,
   "id": "bc134e37-04a5-4380-a25e-cad8fec328f0",
   "metadata": {},
   "outputs": [
    {
     "data": {
      "text/html": [
       "0.0223837053910461"
      ],
      "text/latex": [
       "0.0223837053910461"
      ],
      "text/markdown": [
       "0.0223837053910461"
      ],
      "text/plain": [
       "[1] 0.02238371"
      ]
     },
     "metadata": {},
     "output_type": "display_data"
    }
   ],
   "source": [
    "studentstudied = .2\n",
    "probofpassing = 1/(1+exp(-(-4.077713+1.504645*studentstudied)))\n",
    "probofpassing"
   ]
  },
  {
   "cell_type": "code",
   "execution_count": null,
   "id": "0269548e-fe21-41ef-aead-fee4454d1f09",
   "metadata": {},
   "outputs": [],
   "source": [
    "#Predict chance of passing (as a percent) for a student who studied for 4 hours "
   ]
  },
  {
   "cell_type": "code",
   "execution_count": 12,
   "id": "8c9e5f18-2cf1-4d82-8639-f46628b28d0f",
   "metadata": {},
   "outputs": [
    {
     "data": {
      "text/html": [
       "0.874447361604185"
      ],
      "text/latex": [
       "0.874447361604185"
      ],
      "text/markdown": [
       "0.874447361604185"
      ],
      "text/plain": [
       "[1] 0.8744474"
      ]
     },
     "metadata": {},
     "output_type": "display_data"
    }
   ],
   "source": [
    "studentstudied = 4\n",
    "probofpassing = 1/(1+exp(-(-4.077713+1.504645*studentstudied)))\n",
    "probofpassing"
   ]
  },
  {
   "cell_type": "code",
   "execution_count": null,
   "id": "52368d97-b9f5-478b-84f3-0b98ac2ebb88",
   "metadata": {},
   "outputs": [],
   "source": []
  }
 ],
 "metadata": {
  "kernelspec": {
   "display_name": "R",
   "language": "R",
   "name": "ir"
  },
  "language_info": {
   "codemirror_mode": "r",
   "file_extension": ".r",
   "mimetype": "text/x-r-source",
   "name": "R",
   "pygments_lexer": "r",
   "version": "4.5.0"
  }
 },
 "nbformat": 4,
 "nbformat_minor": 5
}
